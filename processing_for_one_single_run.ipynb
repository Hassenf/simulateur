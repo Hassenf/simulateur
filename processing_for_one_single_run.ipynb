{
 "cells": [
  {
   "cell_type": "code",
   "execution_count": 1,
   "metadata": {},
   "outputs": [],
   "source": [
    "import pandas as pd\n",
    "import numpy as np"
   ]
  },
  {
   "cell_type": "code",
   "execution_count": 4,
   "metadata": {},
   "outputs": [],
   "source": [
    "# read csv \n",
    "data=pd.read_csv('tmp.txt',header=None)\n",
    "data.columns = ['runid','asn','moteid','collision']"
   ]
  },
  {
   "cell_type": "code",
   "execution_count": 158,
   "metadata": {},
   "outputs": [],
   "source": [
    "#data.head(390)"
   ]
  },
  {
   "cell_type": "code",
   "execution_count": 23,
   "metadata": {},
   "outputs": [],
   "source": [
    "#data.max()\n",
    "#data.min()"
   ]
  },
  {
   "cell_type": "code",
   "execution_count": 45,
   "metadata": {},
   "outputs": [],
   "source": [
    "grouped=data.groupby('runid')"
   ]
  },
  {
   "cell_type": "code",
   "execution_count": 79,
   "metadata": {},
   "outputs": [],
   "source": [
    "##this is to iterate over groups\n",
    "#for name, group in grouped:\n",
    "#        print('  *-----------------------------------------------------*')\n",
    "#        print('*---------------- The name of the group --------------*',name)\n",
    "#        print('  *-----------------------------------------------------*')\n",
    "#        print(group)"
   ]
  },
  {
   "cell_type": "code",
   "execution_count": 163,
   "metadata": {},
   "outputs": [],
   "source": [
    "# for the first run = 4\n",
    "group4=grouped.get_group(4)"
   ]
  },
  {
   "cell_type": "code",
   "execution_count": 155,
   "metadata": {},
   "outputs": [],
   "source": [
    "##keep only specific columns that I will need\n",
    "grp4=group4[['asn','collision' ]]\n",
    "#grp4"
   ]
  },
  {
   "cell_type": "code",
   "execution_count": 145,
   "metadata": {},
   "outputs": [],
   "source": [
    "gp4_counts = grp4.groupby(['asn']).count().reset_index().sort_values(by='asn', ascending=True)\n",
    "#gp4_counts"
   ]
  },
  {
   "cell_type": "code",
   "execution_count": null,
   "metadata": {},
   "outputs": [],
   "source": [
    "# This is the way to create a sorted list of integers from 0 to a number\n",
    "index=list(range(5000))\n",
    "#index"
   ]
  },
  {
   "cell_type": "code",
   "execution_count": 147,
   "metadata": {},
   "outputs": [],
   "source": [
    "## This is to change the index set to the first colum\n",
    "gp4= gp4_counts.set_index('asn')\n",
    "#gp4"
   ]
  },
  {
   "cell_type": "code",
   "execution_count": 156,
   "metadata": {},
   "outputs": [],
   "source": [
    "# This command helps you get the number of redundant indexes \n",
    "#gp4[gp4.index.duplicated()]"
   ]
  },
  {
   "cell_type": "code",
   "execution_count": 154,
   "metadata": {},
   "outputs": [],
   "source": [
    "gp4_filled=gp4.reindex(index, fill_value=0)\n",
    "#gp4_filled.head(5000)"
   ]
  }
 ],
 "metadata": {
  "kernelspec": {
   "display_name": "Python 2",
   "language": "python",
   "name": "python2"
  },
  "language_info": {
   "codemirror_mode": {
    "name": "ipython",
    "version": 2
   },
   "file_extension": ".py",
   "mimetype": "text/x-python",
   "name": "python",
   "nbconvert_exporter": "python",
   "pygments_lexer": "ipython2",
   "version": "2.7.12"
  }
 },
 "nbformat": 4,
 "nbformat_minor": 2
}
